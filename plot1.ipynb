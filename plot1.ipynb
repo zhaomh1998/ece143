{
 "cells": [
  {
   "cell_type": "markdown",
   "metadata": {},
   "source": [
    "# Costa Rican Household Poverty Level Prediction\n",
    "## ECE 143 Group 7"
   ]
  },
  {
   "cell_type": "markdown",
   "metadata": {},
   "source": [
    "### Import csv data and preprocessing"
   ]
  },
  {
   "cell_type": "code",
   "execution_count": 1,
   "metadata": {},
   "outputs": [],
   "source": [
    "import preprossing\n",
    "import pandas as pd\n",
    "import matplotlib.pyplot as plt\n",
    "import seaborn as sns\n",
    "\n",
    "training = preprossing.get_training_set()\n",
    "test = preprossing.get_test_set()\n",
    "assert not training.empty\n",
    "assert not test.empty"
   ]
  },
  {
   "cell_type": "code",
   "execution_count": 2,
   "metadata": {},
   "outputs": [],
   "source": [
    "col_descrip = preprossing.read_var()"
   ]
  },
  {
   "cell_type": "markdown",
   "metadata": {},
   "source": [
    "### Group the DataFrame by 4 imcome types"
   ]
  },
  {
   "cell_type": "code",
   "execution_count": 3,
   "metadata": {},
   "outputs": [
    {
     "data": {
      "text/html": [
       "<div>\n",
       "<style scoped>\n",
       "    .dataframe tbody tr th:only-of-type {\n",
       "        vertical-align: middle;\n",
       "    }\n",
       "\n",
       "    .dataframe tbody tr th {\n",
       "        vertical-align: top;\n",
       "    }\n",
       "\n",
       "    .dataframe thead th {\n",
       "        text-align: right;\n",
       "    }\n",
       "</style>\n",
       "<table border=\"1\" class=\"dataframe\">\n",
       "  <thead>\n",
       "    <tr style=\"text-align: right;\">\n",
       "      <th></th>\n",
       "      <th>Id</th>\n",
       "      <th>v2a1</th>\n",
       "      <th>hacdor</th>\n",
       "      <th>rooms</th>\n",
       "      <th>hacapo</th>\n",
       "      <th>v14a</th>\n",
       "      <th>refrig</th>\n",
       "      <th>v18q</th>\n",
       "      <th>r4h1</th>\n",
       "      <th>r4h2</th>\n",
       "      <th>...</th>\n",
       "      <th>age</th>\n",
       "      <th>SQBescolari</th>\n",
       "      <th>SQBage</th>\n",
       "      <th>SQBhogar_total</th>\n",
       "      <th>SQBedjefe</th>\n",
       "      <th>SQBhogar_nin</th>\n",
       "      <th>SQBovercrowding</th>\n",
       "      <th>SQBdependency</th>\n",
       "      <th>SQBmeaned</th>\n",
       "      <th>agesq</th>\n",
       "    </tr>\n",
       "    <tr>\n",
       "      <th>Target</th>\n",
       "      <th></th>\n",
       "      <th></th>\n",
       "      <th></th>\n",
       "      <th></th>\n",
       "      <th></th>\n",
       "      <th></th>\n",
       "      <th></th>\n",
       "      <th></th>\n",
       "      <th></th>\n",
       "      <th></th>\n",
       "      <th></th>\n",
       "      <th></th>\n",
       "      <th></th>\n",
       "      <th></th>\n",
       "      <th></th>\n",
       "      <th></th>\n",
       "      <th></th>\n",
       "      <th></th>\n",
       "      <th></th>\n",
       "      <th></th>\n",
       "      <th></th>\n",
       "    </tr>\n",
       "  </thead>\n",
       "  <tbody>\n",
       "    <tr>\n",
       "      <th>1</th>\n",
       "      <td>755</td>\n",
       "      <td>153</td>\n",
       "      <td>755</td>\n",
       "      <td>755</td>\n",
       "      <td>755</td>\n",
       "      <td>755</td>\n",
       "      <td>755</td>\n",
       "      <td>755</td>\n",
       "      <td>755</td>\n",
       "      <td>755</td>\n",
       "      <td>...</td>\n",
       "      <td>755</td>\n",
       "      <td>755</td>\n",
       "      <td>755</td>\n",
       "      <td>755</td>\n",
       "      <td>755</td>\n",
       "      <td>755</td>\n",
       "      <td>755</td>\n",
       "      <td>755</td>\n",
       "      <td>755</td>\n",
       "      <td>755</td>\n",
       "    </tr>\n",
       "    <tr>\n",
       "      <th>2</th>\n",
       "      <td>1597</td>\n",
       "      <td>337</td>\n",
       "      <td>1597</td>\n",
       "      <td>1597</td>\n",
       "      <td>1597</td>\n",
       "      <td>1597</td>\n",
       "      <td>1597</td>\n",
       "      <td>1597</td>\n",
       "      <td>1597</td>\n",
       "      <td>1597</td>\n",
       "      <td>...</td>\n",
       "      <td>1597</td>\n",
       "      <td>1597</td>\n",
       "      <td>1597</td>\n",
       "      <td>1597</td>\n",
       "      <td>1597</td>\n",
       "      <td>1597</td>\n",
       "      <td>1597</td>\n",
       "      <td>1597</td>\n",
       "      <td>1597</td>\n",
       "      <td>1597</td>\n",
       "    </tr>\n",
       "    <tr>\n",
       "      <th>3</th>\n",
       "      <td>1209</td>\n",
       "      <td>300</td>\n",
       "      <td>1209</td>\n",
       "      <td>1209</td>\n",
       "      <td>1209</td>\n",
       "      <td>1209</td>\n",
       "      <td>1209</td>\n",
       "      <td>1209</td>\n",
       "      <td>1209</td>\n",
       "      <td>1209</td>\n",
       "      <td>...</td>\n",
       "      <td>1209</td>\n",
       "      <td>1209</td>\n",
       "      <td>1209</td>\n",
       "      <td>1209</td>\n",
       "      <td>1209</td>\n",
       "      <td>1209</td>\n",
       "      <td>1209</td>\n",
       "      <td>1209</td>\n",
       "      <td>1209</td>\n",
       "      <td>1209</td>\n",
       "    </tr>\n",
       "    <tr>\n",
       "      <th>4</th>\n",
       "      <td>5996</td>\n",
       "      <td>1907</td>\n",
       "      <td>5996</td>\n",
       "      <td>5996</td>\n",
       "      <td>5996</td>\n",
       "      <td>5996</td>\n",
       "      <td>5996</td>\n",
       "      <td>5996</td>\n",
       "      <td>5996</td>\n",
       "      <td>5996</td>\n",
       "      <td>...</td>\n",
       "      <td>5996</td>\n",
       "      <td>5996</td>\n",
       "      <td>5996</td>\n",
       "      <td>5996</td>\n",
       "      <td>5996</td>\n",
       "      <td>5996</td>\n",
       "      <td>5996</td>\n",
       "      <td>5996</td>\n",
       "      <td>5991</td>\n",
       "      <td>5996</td>\n",
       "    </tr>\n",
       "  </tbody>\n",
       "</table>\n",
       "<p>4 rows × 141 columns</p>\n",
       "</div>"
      ],
      "text/plain": [
       "          Id  v2a1  hacdor  rooms  hacapo  v14a  refrig  v18q  r4h1  r4h2  \\\n",
       "Target                                                                      \n",
       "1        755   153     755    755     755   755     755   755   755   755   \n",
       "2       1597   337    1597   1597    1597  1597    1597  1597  1597  1597   \n",
       "3       1209   300    1209   1209    1209  1209    1209  1209  1209  1209   \n",
       "4       5996  1907    5996   5996    5996  5996    5996  5996  5996  5996   \n",
       "\n",
       "        ...     age  SQBescolari  SQBage  SQBhogar_total  SQBedjefe  \\\n",
       "Target  ...                                                           \n",
       "1       ...     755          755     755             755        755   \n",
       "2       ...    1597         1597    1597            1597       1597   \n",
       "3       ...    1209         1209    1209            1209       1209   \n",
       "4       ...    5996         5996    5996            5996       5996   \n",
       "\n",
       "        SQBhogar_nin  SQBovercrowding  SQBdependency  SQBmeaned  agesq  \n",
       "Target                                                                  \n",
       "1                755              755            755        755    755  \n",
       "2               1597             1597           1597       1597   1597  \n",
       "3               1209             1209           1209       1209   1209  \n",
       "4               5996             5996           5996       5991   5996  \n",
       "\n",
       "[4 rows x 141 columns]"
      ]
     },
     "execution_count": 3,
     "metadata": {},
     "output_type": "execute_result"
    }
   ],
   "source": [
    "grp = training.groupby('Target')\n",
    "g1 = grp.get_group(1)\n",
    "g2 = grp.get_group(2)\n",
    "g3 = grp.get_group(3)\n",
    "g4 = grp.get_group(4)\n",
    "\n",
    "\n",
    "grp.count()"
   ]
  },
  {
   "cell_type": "markdown",
   "metadata": {},
   "source": [
    "### Average number of children (0-19) and percentage of marriage"
   ]
  },
  {
   "cell_type": "code",
   "execution_count": null,
   "metadata": {},
   "outputs": [],
   "source": [
    "def print_avg(col_name):\n",
    "    \"\"\"\n",
    "    Prints sum / number of data entries\n",
    "    :param col_name: name of the column to operate on\n",
    "    :type col_name: str\n",
    "    \"\"\"\n",
    "    assert isinstance(col_name, str)\n",
    "    print('Income group 1  ',end=''); print(g1[col_name].sum() / g1.shape[0])\n",
    "    print('Income group 2  ',end=''); print(g2[col_name].sum() / g2.shape[0])\n",
    "    print('Income group 3  ',end=''); print(g3[col_name].sum() / g3.shape[0])\n",
    "    print('Income group 4  ',end=''); print(g4[col_name].sum() / g4.shape[0])\n",
    "    \n",
    "\n",
    "print('Average number of children')\n",
    "print_avg('hogar_nin')\n",
    "print('\\nPercentage of marriage')\n",
    "print_avg('estadocivil3')"
   ]
  },
  {
   "cell_type": "code",
   "execution_count": null,
   "metadata": {},
   "outputs": [],
   "source": [
    "fig, axes = plt.subplots(1,2)\n",
    "bar_width = 0.5\n",
    "opacity = 0.8\n",
    "index = [1,2,3,4]\n",
    "avg_child = [ig['hogar_nin'].sum()/ig.shape[0] for ig in [g1,g2,g3,g4]]\n",
    "marriage_perc = [ig['estadocivil3'].sum()/ig.shape[0] for ig in [g1,g2,g3,g4]]\n",
    "\n",
    "axes[0].bar(index, avg_child, bar_width, alpha=opacity, color='b')\n",
    "axes[0].set_title('Average number of Children'); axes[0].set_ylabel('Number of children')\n",
    "\n",
    "axes[1].bar(index, marriage_perc, bar_width, alpha=opacity, color='g')\n",
    "axes[1].set_title('Marriage Ratio'); axes[1].set_ylabel('Marriage Ratio')\n",
    "\n",
    "fig.text(0.5, 0, 'Income group', ha='center', va='center')\n",
    "fig.tight_layout()"
   ]
  },
  {
   "cell_type": "markdown",
   "metadata": {},
   "source": [
    "### Monthly rent (if applicable)"
   ]
  },
  {
   "cell_type": "code",
   "execution_count": null,
   "metadata": {},
   "outputs": [],
   "source": [
    "fig, axes = plt.subplots(1,2, figsize=(15,5))\n",
    "p1 = sns.violinplot(ax = axes[0], x=\"Target\", y=\"v2a1\", hue='estadocivil3', data=training, legend_out=True)\n",
    "p2 = sns.violinplot(ax = axes[1], x=\"Target\", y=\"v2a1\", hue='estadocivil3', data=training, legend_out=True)\n",
    "axes[1].set_ylim(0,500000)\n",
    "fig.tight_layout()\n",
    "axes[0].set_title('Monthly Rent for Income Groups'); axes[0].set_xlabel('Income Group'); axes[0].set_ylabel('Monthly Rent')\n",
    "axes[1].set_title('Zoomed in Monthly Rent for Income Groups'); axes[1].set_xlabel('Income Group'); axes[1].set_ylabel('Monthly Rent')"
   ]
  },
  {
   "cell_type": "code",
   "execution_count": null,
   "metadata": {},
   "outputs": [],
   "source": [
    "# tipovivi1, =1 own and fully paid house\n",
    "# tipovivi2, =1 own,  paying in installments\n",
    "# tipovivi3, =1 rented\n",
    "# tipovivi4, =1 precarious\n",
    "# tipovivi5, =1 other(assigned,  borrowed)\n",
    "\n",
    "def house_status(group_df,ax):\n",
    "    \"\"\"\n",
    "    Count and plot the housing payments type percentage of each income level group\n",
    "    :param group_df: Dataframe of the imcome group\n",
    "    :type group_df: pandas DataFrame\n",
    "    :param ax: Axis to be plotted on\n",
    "    :type ax: pyplot axis\n",
    "    :return: pie plot wedges and labels for legend\n",
    "    \"\"\"\n",
    "    g_length = group_df['tipovivi1'].shape[0]\n",
    "    g_cond = [group_df[col].value_counts().sort_index() for col in ['tipovivi1','tipovivi2','tipovivi3','tipovivi4','tipovivi5']]\n",
    "    sizes = [g_type[1]/g_length for g_type in g_cond]\n",
    "    labels = 'own and fully paid', 'own, paying in installments', 'rented', 'precarious', 'other(assigned,  borrowed)'\n",
    "    wedges, texts, autotexts = ax.pie(sizes, autopct='%1.1f%%', shadow=True, startangle=90,textprops=dict(color=\"w\"))\n",
    "    ax.axis('equal')  # Equal aspect ratio ensures that pie is drawn as a circle.\n",
    "    return wedges, labels\n",
    "    \n",
    "\n",
    "fig, axes = plt.subplots(2,2)\n",
    "house_status(g1,axes[0,0])\n",
    "house_status(g2,axes[0,1])\n",
    "house_status(g3,axes[1,0])\n",
    "wed, lbl = house_status(g4,axes[1,1])\n",
    "fig.legend(wed, lbl,\n",
    "      title=\"House Status\",\n",
    "      loc=\"center\")\n",
    "axes[0,0].set_title('Income group 1');axes[0,1].set_title('Income group 2')\n",
    "axes[1,0].set_title('Income group 3');axes[1,1].set_title('Income group 4')\n",
    "fig.set_size_inches(15, 10)\n",
    "fig.tight_layout()"
   ]
  },
  {
   "cell_type": "markdown",
   "metadata": {},
   "source": [
    "### Group into households"
   ]
  },
  {
   "cell_type": "code",
   "execution_count": null,
   "metadata": {},
   "outputs": [],
   "source": [
    "households = training.groupby('idhogar')\n",
    "household_ids = households.groups.keys()\n",
    "print(f'Number of households is: {len(household_ids)}')\n",
    "household_heads = training['parentesco1'].sum()\n",
    "print(f'Number of household heads is: {household_heads}')\n",
    "# def count_in_households(column_name, household_id, data_grouped):\n",
    "#     \"\"\"\n",
    "#     Count number of column_name in the household_idm, from dataset grouped by households, data_grouped\n",
    "#     :param column_name: Name of the column counting from the dataset, in string\n",
    "#     :type column_name: string\n",
    "#     :param household_id: Household group ID\n",
    "#     :type household_id: string\n",
    "#     :param data_grouped: Dataset to work on\n",
    "#     :type data_grouped: Pandas group\n",
    "#     \"\"\"\n",
    "#     assert isinstance(column_name, str)\n",
    "#     assert isinstance(household_id, str)\n",
    "#     assert isinstance(data_grouped, pd.core.groupby.DataFrameGroupBy)\n",
    "#     assert household_id in data_grouped.groups.keys()\n",
    "#     household_df = data_grouped.get_group(household_id)\n",
    "#     return household_df[column_name].sum()\n",
    "    \n",
    "\n",
    "\n",
    "# parents_count = pd.Series([count_in_households('parentesco7', hh_id, households) for hh_id in household_ids]).value_counts()\n",
    "# parents_count = [count_in_households('parentesco7', hh_id, households) for hh_id in household_ids]\n",
    "\n",
    "constitution_cols = ['parentesco2','parentesco3','parentesco4','parentesco5','parentesco6','parentesco7','parentesco8','parentesco9']\n",
    "fig, axes = plt.subplots(1,2, figsize=(15,5))\n",
    "training[constitution_cols].mean().plot.bar(ax=axes[0])\n",
    "test[constitution_cols].mean().plot.bar(ax=axes[1])\n",
    "for ax_index in range(len(axes)):\n",
    "    axes[ax_index].set_ylim(0,0.42)\n",
    "    for bar in axes[ax_index].patches:\n",
    "        axes[ax_index].annotate(f'{bar.get_height():.4f}', (bar.get_x() - bar.get_width()/4, bar.get_height()+0.005))\n",
    "    axes[ax_index].set_xticklabels([col_descrip[keys][6:] for keys in constitution_cols]);"
   ]
  },
  {
   "cell_type": "code",
   "execution_count": null,
   "metadata": {},
   "outputs": [],
   "source": [
    "households_with_parents = households['parentesco7'].any()\n",
    "households_with_parents_child = (households['parentesco7'].any() & households['parentesco3'].any())\n",
    "print(f'There are {households_with_parents.sum()} households containing parents\\n{households_with_parents_child.sum()} of them has son/daughter(s)')\n"
   ]
  },
  {
   "cell_type": "markdown",
   "metadata": {},
   "source": [
    "### Plot the age of parents when they have first child\n",
    "Filter out households containing both parents and son/daughters, then subtract `parent's age` by the `oldest son/daughter's age`, then make a plot."
   ]
  },
  {
   "cell_type": "code",
   "execution_count": null,
   "metadata": {
    "scrolled": true
   },
   "outputs": [],
   "source": [
    "households = training.groupby('idhogar')\n",
    "# Filter out households containing both parents and son/daughters\n",
    "filt_indivisuals = households.filter(lambda x: x['parentesco7'].any() & x['parentesco3'].any())\n",
    "filt_households = filt_indivisuals.groupby(['idhogar', 'parentesco7', 'parentesco3'])\n",
    "filt_household_ids = filt_indivisuals.groupby('idhogar').groups.keys()\n",
    "\n",
    "# Create DataFrame for calculation\n",
    "household_parent_child_stat = pd.DataFrame({'household_id': list(filt_household_ids),\n",
    "                                            'parents_age_avg': [\n",
    "                                                filt_households.get_group((household_id, 1, 0))['age'].mean() for\n",
    "                                                household_id in filt_household_ids],\n",
    "                                            'son_daughter_age_avg': [\n",
    "                                                filt_households.get_group((household_id, 0, 1))['age'].max() for\n",
    "                                                household_id in filt_household_ids],\n",
    "                                            'Income Group': [\n",
    "                                                filt_households.get_group((household_id, 1, 0))['Target'].values[0] for\n",
    "                                                household_id in filt_household_ids]})\n",
    "household_parent_child_stat['Age of Parent Having First Child'] = household_parent_child_stat['parents_age_avg'] - \\\n",
    "                                                                  household_parent_child_stat['son_daughter_age_avg']\n",
    "\n",
    "sns.swarmplot(x='Income Group', y='Age of Parent Having First Child', data=household_parent_child_stat)\n",
    "plt.title('Age of Parents Having First Child for 4 Income Groups');\n"
   ]
  },
  {
   "cell_type": "markdown",
   "metadata": {},
   "source": [
    "#### Test set"
   ]
  },
  {
   "cell_type": "code",
   "execution_count": null,
   "metadata": {
    "scrolled": true
   },
   "outputs": [],
   "source": [
    "households = test.groupby('idhogar')\n",
    "# Filter out households containing both parents and son/daughters\n",
    "filt_indivisuals = households.filter(lambda x: x['parentesco7'].any() & x['parentesco3'].any())\n",
    "filt_households = filt_indivisuals.groupby(['idhogar', 'parentesco7', 'parentesco3'])\n",
    "filt_household_ids = filt_indivisuals.groupby('idhogar').groups.keys()\n",
    "\n",
    "# Create DataFrame for calculation\n",
    "household_parent_child_stat = pd.DataFrame({'household_id': list(filt_household_ids),\n",
    "                                            'parents_age_avg': [\n",
    "                                                filt_households.get_group((household_id, 1, 0))['age'].mean() for\n",
    "                                                household_id in filt_household_ids],\n",
    "                                            'son_daughter_age_avg': [\n",
    "                                                filt_households.get_group((household_id, 0, 1))['age'].max() for\n",
    "                                                household_id in filt_household_ids],\n",
    "                                            'Avg Years of Education for Adults in Household Squared': [\n",
    "                                                filt_households.get_group((household_id, 1, 0))['SQBmeaned'].values[0] for\n",
    "                                                household_id in filt_household_ids]})\n",
    "household_parent_child_stat['Age of Parent Having First Child'] = household_parent_child_stat['parents_age_avg'] - \\\n",
    "                                                                  household_parent_child_stat['son_daughter_age_avg']\n",
    "fig, ax = plt.subplots(figsize=(20,5))\n",
    "sns.scatterplot(x='Avg Years of Education for Adults in Household Squared', y='Age of Parent Having First Child', data=household_parent_child_stat)\n",
    "# plt.title('Age of Parents Having First Child for 4 Income Groups');"
   ]
  },
  {
   "cell_type": "markdown",
   "metadata": {},
   "source": [
    "### Average number of people per household for 4 income groups"
   ]
  },
  {
   "cell_type": "code",
   "execution_count": null,
   "metadata": {
    "scrolled": true
   },
   "outputs": [],
   "source": [
    "# r4h1, Males younger than 12 years of age\n",
    "# r4h2, Males 12 years of age and older\n",
    "# r4m1, Females younger than 12 years of age\n",
    "# r4m2, Females 12 years of age and older\n",
    "\n",
    "household_member = households.first()[['r4h1', 'r4h2', 'r4m1', 'r4m2', 'Target']]\n",
    "household_member_g = household_member.groupby('Target').mean()\n",
    "\n",
    "\n",
    "fig, ax = plt.subplots()\n",
    "household_member_g[['r4h1', 'r4h2']].plot.bar(stacked=True, width=0.2, position=1, ax=ax, color=['g','b'], alpha=0.7)\n",
    "household_member_g[['r4m1', 'r4m2']].plot.bar(stacked=True, width=0.2, position=0, ax=ax, color=['r','y'], alpha=0.7)\n",
    "plt.legend(bbox_to_anchor=(1.05, 1), loc=2, borderaxespad=0.,labels=['Male < 12 years old','Male >= 12 years old','Female < 12 years old','Female >= 12 years old'])\n",
    "plt.xlabel('Household Imcome Level'); plt.ylabel('Average number per household'); plt.title('Average number of people per household')\n",
    "plt.show()"
   ]
  },
  {
   "cell_type": "markdown",
   "metadata": {},
   "source": [
    "### Region Exploration\n",
    "<img src=\"https://image.slidesharecdn.com/sociales-151013022512-lva1-app6891/95/resumen-estudios-sociales-de-regiones-de-costa-rica-1-638.jpg?cb=1444704104\">"
   ]
  },
  {
   "cell_type": "code",
   "execution_count": null,
   "metadata": {},
   "outputs": [],
   "source": [
    "regions = {'lugar1': 'Central Valley',\n",
    "           'lugar2': 'North Pacific',\n",
    "           'lugar3': 'Central Pacific',\n",
    "           'lugar4': 'South Pacific',\n",
    "           'lugar5': 'Caribic',\n",
    "           'lugar6': 'Northern Plains'}\n"
   ]
  },
  {
   "cell_type": "markdown",
   "metadata": {},
   "source": [
    "### Years of education for male/female household heads vs. rent"
   ]
  },
  {
   "cell_type": "code",
   "execution_count": null,
   "metadata": {},
   "outputs": [],
   "source": [
    "male_head_education = training.loc[~training['edjefe'].isin(['yes', 'no'])] # Choose valid rows\n",
    "male_head_education['edjefe'] = male_head_education['edjefe'].astype('int64') # Convert to int\n",
    "female_head_education = training.loc[~training['edjefa'].isin(['yes', 'no'])] # Choose valid rows\n",
    "female_head_education['edjefa'] = female_head_education['edjefa'].astype('int64') # Convert to int\n",
    "fig, axes = plt.subplots(1,2,sharey=True,figsize=(15,5))\n",
    "sns.boxplot(x='edjefe', y='v2a1', data=male_head_education, ax=axes[0]); axes[0].set_title('Male'); axes[0].set_xlabel('Years of education for male househeads'); axes[0].set_ylabel('Monthly Rent')\n",
    "sns.boxplot(x='edjefa', y='v2a1', data=female_head_education, ax=axes[1]); axes[1].set_title('Female'); axes[1].set_xlabel('Years of education for female households'); axes[1].set_ylabel('Monthly Rent')"
   ]
  },
  {
   "cell_type": "code",
   "execution_count": null,
   "metadata": {},
   "outputs": [],
   "source": [
    "training['child_percentage_in_household'] = training['hogar_nin'] / training['hogar_total']\n",
    "sns.violinplot(x='Target', y='child_percentage_in_household', data=training)"
   ]
  },
  {
   "cell_type": "code",
   "execution_count": null,
   "metadata": {},
   "outputs": [],
   "source": [
    "def four_target_kde_plot(df, col_name, ax):\n",
    "    poverty_color = {1: 'red', 2: 'orange', 3: 'blue', 4: 'green'}\n",
    "    poverty_legend = {1: 'extreme', 2: 'moderate', 3: 'vulnerable',4: 'non vulnerable'}\n",
    "    for poverty_level, color in poverty_color.items():\n",
    "        sns.kdeplot(df.loc[df['Target'] == poverty_level, col_name].dropna(),\n",
    "                    ax=ax, color=color, label=poverty_legend[poverty_level])"
   ]
  },
  {
   "cell_type": "code",
   "execution_count": null,
   "metadata": {},
   "outputs": [],
   "source": [
    "fig, ax = plt.subplots()        \n",
    "four_target_kde_plot(training, 'child_percentage_in_household', ax)\n",
    "ax.set_title('Percentage of number of children 0-19 in household')\n",
    "ax.set_xlim(0,1)"
   ]
  },
  {
   "cell_type": "code",
   "execution_count": null,
   "metadata": {},
   "outputs": [],
   "source": [
    "# qmobilephone\n",
    "fig, ax = plt.subplots(figsize=(15,5)) \n",
    "four_target_kde_plot(training, 'qmobilephone', ax)\n",
    "ax.set_xlim(0)"
   ]
  },
  {
   "cell_type": "code",
   "execution_count": null,
   "metadata": {},
   "outputs": [],
   "source": [
    "# hogar_total\n",
    "fig, ax = plt.subplots(figsize=(15,5)) \n",
    "four_target_dist_plot(training, 'hogar_total', ax)\n",
    "ax.set_xlim(0)"
   ]
  },
  {
   "cell_type": "code",
   "execution_count": null,
   "metadata": {},
   "outputs": [],
   "source": [
    "def four_target_dist_plot(df, col_name, ax):\n",
    "    poverty_color = {1: 'red', 2: 'orange', 3: 'blue', 4: 'green'}\n",
    "    poverty_legend = {1: 'extreme', 2: 'moderate', 3: 'vulnerable',4: 'non vulnerable'}\n",
    "    for poverty_level, color in poverty_color.items():\n",
    "        sns.distplot(df.loc[df['Target'] == poverty_level, col_name].dropna(),\n",
    "                    ax=ax, color=color, label=poverty_legend[poverty_level])"
   ]
  },
  {
   "cell_type": "code",
   "execution_count": null,
   "metadata": {
    "scrolled": false
   },
   "outputs": [],
   "source": [
    "# hogar_total\n",
    "fig, ax = plt.subplots(figsize=(15,5)) \n",
    "four_target_dist_plot(training, 'hogar_total', ax)\n",
    "ax.set_xlim(0)"
   ]
  },
  {
   "cell_type": "code",
   "execution_count": null,
   "metadata": {
    "scrolled": false
   },
   "outputs": [],
   "source": [
    "# hogar_total\n",
    "fig, ax = plt.subplots(figsize=(15,5)) \n",
    "four_target_dist_plot(training, 'meaneduc', ax)\n",
    "ax.set_xlim(0)"
   ]
  },
  {
   "cell_type": "code",
   "execution_count": null,
   "metadata": {
    "scrolled": false
   },
   "outputs": [],
   "source": [
    "sns.jointplot(x='hhsize',y='SQBmeaned',data=training, kind='hex')"
   ]
  },
  {
   "cell_type": "code",
   "execution_count": null,
   "metadata": {},
   "outputs": [],
   "source": [
    "# training[training['edjefa'] == 'yes'][['edjefa','parentesco1']]\n",
    "\n",
    "\n",
    "g4['meaneduc'].plot.kde()\n",
    "four_target_dist_plot(training,'meaneduc')"
   ]
  },
  {
   "cell_type": "code",
   "execution_count": null,
   "metadata": {},
   "outputs": [],
   "source": [
    "#secondly, using boxplot to find relationship between edjefe,edjefa and target.\n",
    "#edjefe:years of education of male head of household    edjefa:years of education of female head of household\n",
    "#key point: household, male, female\n",
    "plt.figure(figsize = (11, 5))\n",
    "household = training[training['parentesco1'] == 1].copy()\n",
    "\n",
    "for i, col in enumerate([ 'edjefa', 'edjefe']):\n",
    "    ax = plt.subplot(1, 2,i+1)\n",
    "    # boxplot colored by `Target`\n",
    "    sns.violinplot(x = 'Target', y = col , data = household.loc[household['male'] == i])\n",
    "    plt.title('%s vs Target'%(col.capitalize()))\n",
    "    plt.grid(axis = 'y', color = 'green', linestyle ='-.')\n",
    "\n",
    "#from the plot, we can get two conclusion:\n",
    "#(1) There were a significant positive correlation between target and years of education of household\n",
    "#(2) In every poverty-level family, the average years of education of female is a little bit larger that male's."
   ]
  },
  {
   "cell_type": "code",
   "execution_count": null,
   "metadata": {},
   "outputs": [],
   "source": [
    "sns.violinplot(x='Target',y='Edjefa',data=training)"
   ]
  },
  {
   "cell_type": "code",
   "execution_count": null,
   "metadata": {},
   "outputs": [],
   "source": [
    "training['instlevel'] = training['instlevel1'] * 1 + training['instlevel2'] * 2 + training['instlevel3'] * 3 + training['instlevel3'] * 3 + training['instlevel4'] * 4 + training['instlevel5'] * 5 + training['instlevel6'] * 6 + training['instlevel7'] * 7 + training['instlevel8'] * 8 + training['instlevel9'] * 9\n",
    "training['instlevel'] = training['instlevel'] ** 2\n",
    "# # sns.barplot(instlevel)\n",
    "# training.groupby('instlevel')\n",
    "# # sns.distplot('instlevel')\n",
    "\n",
    "# instlevel\n",
    "training[['instlevel1', 'instlevel']]\n",
    "fig, ax = plt.subplots()\n",
    "four_target_dist_plot(training,'instlevel',ax)\n",
    "\n",
    "\n"
   ]
  },
  {
   "cell_type": "code",
   "execution_count": null,
   "metadata": {},
   "outputs": [],
   "source": [
    "training[['instlevel4', 'instlevel']]"
   ]
  },
  {
   "cell_type": "code",
   "execution_count": null,
   "metadata": {},
   "outputs": [],
   "source": []
  }
 ],
 "metadata": {
  "kernelspec": {
   "display_name": "Python 3",
   "language": "python",
   "name": "python3"
  },
  "language_info": {
   "codemirror_mode": {
    "name": "ipython",
    "version": 3
   },
   "file_extension": ".py",
   "mimetype": "text/x-python",
   "name": "python",
   "nbconvert_exporter": "python",
   "pygments_lexer": "ipython3",
   "version": "3.7.0"
  }
 },
 "nbformat": 4,
 "nbformat_minor": 2
}

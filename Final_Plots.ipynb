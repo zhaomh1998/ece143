{
 "cells": [
  {
   "cell_type": "code",
   "execution_count": 10,
   "metadata": {},
   "outputs": [
    {
     "data": {
      "text/html": [
       "<script type=\"text/javascript\">window.PlotlyConfig = {MathJaxConfig: 'local'};</script><script type=\"text/javascript\">if (window.MathJax) {MathJax.Hub.Config({SVG: {font: \"STIX-Web\"}});}</script><script>requirejs.config({paths: { 'plotly': ['https://cdn.plot.ly/plotly-latest.min']},});if(!window._Plotly) {require(['plotly'],function(plotly) {window._Plotly=plotly;});}</script>"
      ]
     },
     "metadata": {},
     "output_type": "execute_result"
    },
    {
     "name": "stdout",
     "output_type": "stream",
     "text": [
      "Start to load data...\n",
      "Processing... Please wait...\n"
     ]
    },
    {
     "name": "stderr",
     "output_type": "stream",
     "text": [
      "/anaconda3/lib/python3.7/site-packages/pandas/core/indexing.py:630: SettingWithCopyWarning:\n",
      "\n",
      "\n",
      "A value is trying to be set on a copy of a slice from a DataFrame.\n",
      "Try using .loc[row_indexer,col_indexer] = value instead\n",
      "\n",
      "See the caveats in the documentation: http://pandas.pydata.org/pandas-docs/stable/indexing.html#indexing-view-versus-copy\n",
      "\n",
      "/anaconda3/lib/python3.7/site-packages/pandas/core/indexing.py:362: SettingWithCopyWarning:\n",
      "\n",
      "\n",
      "A value is trying to be set on a copy of a slice from a DataFrame.\n",
      "Try using .loc[row_indexer,col_indexer] = value instead\n",
      "\n",
      "See the caveats in the documentation: http://pandas.pydata.org/pandas-docs/stable/indexing.html#indexing-view-versus-copy\n",
      "\n",
      "/anaconda3/lib/python3.7/site-packages/pandas/core/indexing.py:543: SettingWithCopyWarning:\n",
      "\n",
      "\n",
      "A value is trying to be set on a copy of a slice from a DataFrame.\n",
      "Try using .loc[row_indexer,col_indexer] = value instead\n",
      "\n",
      "See the caveats in the documentation: http://pandas.pydata.org/pandas-docs/stable/indexing.html#indexing-view-versus-copy\n",
      "\n"
     ]
    },
    {
     "name": "stdout",
     "output_type": "stream",
     "text": [
      "Start to load data...\n",
      "Start to load data...\n"
     ]
    }
   ],
   "source": [
    "import preprocessing\n",
    "import pandas as pd\n",
    "import matplotlib.pyplot as plt\n",
    "import seaborn as sns\n",
    "import numpy as np\n",
    "# from plotly.offline import download_plotlyjs, init_notebook_mode, plot, iplot\n",
    "import plotly.offline as py\n",
    "import plotly.graph_objs as go\n",
    "py.init_notebook_mode(connected=True)\n",
    "\n",
    "training = preprocessing.get_training_set()\n",
    "test = preprocessing.get_test_set()\n",
    "hh_char = preprocessing.INECDataSet('household_characteristics').get_dataset()\n",
    "education = preprocessing.INECDataSet('edu').get_dataset()\n",
    "edu_level = preprocessing.INECDataSet('edu_lvl').get_dataset()\n",
    "assert not training.empty\n",
    "assert not test.empty\n",
    "\n"
   ]
  },
  {
   "cell_type": "code",
   "execution_count": 14,
   "metadata": {},
   "outputs": [],
   "source": [
    "grp = training.groupby('Target')\n",
    "g1 = grp.get_group(1)\n",
    "g2 = grp.get_group(2)\n",
    "g3 = grp.get_group(3)\n",
    "g4 = grp.get_group(4)"
   ]
  },
  {
   "cell_type": "code",
   "execution_count": 34,
   "metadata": {
    "scrolled": false
   },
   "outputs": [
    {
     "data": {
      "text/html": [
       "<div id=\"5d5972aa-e2f4-4627-9df7-7f7a82e3a3d8\" style=\"height: 525px; width: 100%;\" class=\"plotly-graph-div\"></div><script type=\"text/javascript\">require([\"plotly\"], function(Plotly) { window.PLOTLYENV=window.PLOTLYENV || {};window.PLOTLYENV.BASE_URL=\"https://plot.ly\";Plotly.newPlot(\"5d5972aa-e2f4-4627-9df7-7f7a82e3a3d8\", [{\"name\": \"Children\", \"x\": [1, 2, 3, 4], \"y\": [2.3086092715231787, 2.0206637445209767, 1.6724565756823822, 1.0758839226150767], \"type\": \"bar\", \"uid\": \"07ac869f-da9d-4e7e-8fd2-65eca80586d0\"}, {\"name\": \"Adults\", \"x\": [1, 2, 3, 4], \"y\": [2.147019867549669, 2.3412648716343143, 2.600496277915633, 2.713809206137425], \"type\": \"bar\", \"uid\": \"fdd77421-36f0-4c7a-923e-f618acb95374\"}], {\"barmode\": \"stack\", \"xaxis\": {\"title\": \"Income Group\"}, \"yaxis\": {\"title\": \"Average number per household\"}}, {\"showLink\": true, \"linkText\": \"Export to plot.ly\", \"plotlyServerURL\": \"https://plot.ly\"})});</script><script type=\"text/javascript\">window.addEventListener(\"resize\", function(){window._Plotly.Plots.resize(document.getElementById(\"5d5972aa-e2f4-4627-9df7-7f7a82e3a3d8\"));});</script>"
      ]
     },
     "metadata": {},
     "output_type": "execute_result"
    }
   ],
   "source": [
    "avg_child = [ig['hogar_nin'].sum()/ig.shape[0] for ig in [g1,g2,g3,g4]]\n",
    "avg_adult = [ig['hogar_adul'].sum()/ig.shape[0] for ig in [g1,g2,g3,g4]]\n",
    "children = go.Bar(\n",
    "    x=[1, 2, 3, 4],\n",
    "    y=avg_child,\n",
    "    name='Children'\n",
    ")\n",
    "adult = go.Bar(\n",
    "    x=[1, 2, 3, 4],\n",
    "    y=avg_adult,\n",
    "    name='Adults'\n",
    ")\n",
    "\n",
    "layout = go.Layout(\n",
    "    xaxis={'title': 'Income Group'},\n",
    "    yaxis={'title': 'Average number per household'},\n",
    "    barmode='stack'\n",
    ")\n",
    "\n",
    "fig = go.Figure(data=[children,adult], layout=layout)#, layout=layout)\n",
    "py.iplot(fig)"
   ]
  },
  {
   "cell_type": "code",
   "execution_count": 85,
   "metadata": {},
   "outputs": [
    {
     "data": {
      "text/html": [
       "<div id=\"7ca8508c-66c5-4380-bb94-cc3f5e86a5a1\" style=\"height: 525px; width: 100%;\" class=\"plotly-graph-div\"></div><script type=\"text/javascript\">require([\"plotly\"], function(Plotly) { window.PLOTLYENV=window.PLOTLYENV || {};window.PLOTLYENV.BASE_URL=\"https://plot.ly\";Plotly.newPlot(\"7ca8508c-66c5-4380-bb94-cc3f5e86a5a1\", [{\"hole\": 0.8, \"labels\": [1, 2, 3, 4], \"values\": [1.8, 34.23, 52.25, 11.71], \"type\": \"pie\", \"uid\": \"0adabf06-2edd-4e93-9c03-8bdb0bf76004\"}, {\"domain\": {\"x\": [0.11, 0.89], \"y\": [0.11, 0.89]}, \"hole\": 0.8, \"labels\": [1, 2, 3, 4], \"values\": [0.68, 38.69, 50.68, 9.95], \"type\": \"pie\", \"uid\": \"516ae491-e8d1-439d-8604-7519a6d2a3ad\"}, {\"domain\": {\"x\": [0.2, 0.8], \"y\": [0.2, 0.8]}, \"hole\": 0.8, \"labels\": [1, 2, 3, 4], \"values\": [0.85, 44.51, 48.17, 6.48], \"type\": \"pie\", \"uid\": \"1b7800c5-ac34-4e15-86e7-919f9f9ea62c\"}, {\"domain\": {\"x\": [0.3, 0.7], \"y\": [0.3, 0.7]}, \"labels\": [1, 2, 3, 4], \"values\": [0.26, 56.04, 41.4, 2.3], \"type\": \"pie\", \"uid\": \"8b9caaa2-08cc-44f2-b906-86f9234db428\"}], {}, {\"showLink\": true, \"linkText\": \"Export to plot.ly\", \"plotlyServerURL\": \"https://plot.ly\"})});</script><script type=\"text/javascript\">window.addEventListener(\"resize\", function(){window._Plotly.Plots.resize(document.getElementById(\"7ca8508c-66c5-4380-bb94-cc3f5e86a5a1\"));});</script>"
      ]
     },
     "metadata": {},
     "output_type": "execute_result"
    }
   ],
   "source": [
    "t1 = go.Pie(labels=[1,2,3,4], values=[1.8, 34.23, 52.25, 11.71], hole=0.8)\n",
    "t2 = go.Pie(labels=[1,2,3,4], values=[0.68, 38.69, 50.68, 9.95], hole=0.8, domain={'x': [0.11, 0.89], 'y': [0.11,0.89]})\n",
    "t3 = go.Pie(labels=[1,2,3,4], values=[0.85, 44.51, 48.17, 6.48], hole=0.8, domain={'x': [0.2, 0.8], 'y': [0.2,0.8]})\n",
    "t4 = go.Pie(labels=[1,2,3,4], values=[0.26, 56.04, 41.40, 2.30], domain={'x': [0.3, 0.7], 'y': [0.3,0.7]})\n",
    "\n",
    "# layout = go.Layout(\n",
    "#     xaxis={'title': 'Income Group'},\n",
    "#     yaxis={'title': 'Average number per household'},\n",
    "#     barmode='stack'\n",
    "# )\n",
    "\n",
    "\n",
    "fig = go.Figure(data=[t1, t2, t3, t4])#, layout=layout)\n",
    "py.iplot(fig)"
   ]
  },
  {
   "cell_type": "code",
   "execution_count": 58,
   "metadata": {},
   "outputs": [
    {
     "name": "stderr",
     "output_type": "stream",
     "text": [
      "/anaconda3/lib/python3.7/site-packages/scipy/stats/stats.py:1713: FutureWarning:\n",
      "\n",
      "Using a non-tuple sequence for multidimensional indexing is deprecated; use `arr[tuple(seq)]` instead of `arr[seq]`. In the future this will be interpreted as an array index, `arr[np.array(seq)]`, which will result either in an error or a different result.\n",
      "\n"
     ]
    },
    {
     "data": {
      "text/plain": [
       "<matplotlib.axes._subplots.AxesSubplot at 0x1a263115f8>"
      ]
     },
     "execution_count": 58,
     "metadata": {},
     "output_type": "execute_result"
    },
    {
     "data": {
      "image/png": "[encoded data removed]",
      "text/plain": [
       "<Figure size 432x288 with 1 Axes>"
      ]
     },
     "metadata": {
      "needs_background": "light"
     },
     "output_type": "display_data"
    }
   ],
   "source": [
    "warning_cols = ['pisonotiene', 'abastaguano', 'noelec', 'sanitario1', 'energcocinar1']\n",
    "training['warning'] = training[warning_cols].sum(axis=1)\n",
    "sns.violinplot(y='warning',x='Target',data=training)"
   ]
  },
  {
   "cell_type": "code",
   "execution_count": null,
   "metadata": {},
   "outputs": [],
   "source": [
    "def region_line_plot(df, col):\n",
    "    \"\"\"\n",
    "    Creates plotly line plots comparing regions\n",
    "    :param df: DataFrame storing the data\n",
    "    :type df: Pandas DataFrame\n",
    "    :param col: Name of the column to plot\n",
    "    :type col: String\n",
    "    \"\"\"\n",
    "    region = ['Central', ]"
   ]
  },
  {
   "cell_type": "code",
   "execution_count": 103,
   "metadata": {},
   "outputs": [
    {
     "data": {
      "text/html": [
       "<div id=\"cd1e49d8-193d-4d0a-9567-53c94d0eacdb\" style=\"height: 525px; width: 100%;\" class=\"plotly-graph-div\"></div><script type=\"text/javascript\">require([\"plotly\"], function(Plotly) { window.PLOTLYENV=window.PLOTLYENV || {};window.PLOTLYENV.BASE_URL=\"https://plot.ly\";Plotly.newPlot(\"cd1e49d8-193d-4d0a-9567-53c94d0eacdb\", [{\"mode\": \"lines+markers\", \"name\": \"% Poverty\", \"x\": [2010, 2011, 2012, 2013, 2014], \"y\": [21.2, 21.7, 20.6, 20.7, 22.4], \"type\": \"scatter\", \"uid\": \"17df050d-e020-4fc8-b12a-7dbfdcfe0f30\"}, {\"mode\": \"lines+markers\", \"name\": \"% Poverty\", \"x\": [2014, 2015, 2016, 2017], \"y\": [22.4, 21.7, 20.5, 20.0], \"type\": \"scatter\", \"uid\": \"c4f6e548-5cc7-46f8-b1ec-b60f9cf630d7\"}], {}, {\"showLink\": true, \"linkText\": \"Export to plot.ly\", \"plotlyServerURL\": \"https://plot.ly\"})});</script><script type=\"text/javascript\">window.addEventListener(\"resize\", function(){window._Plotly.Plots.resize(document.getElementById(\"cd1e49d8-193d-4d0a-9567-53c94d0eacdb\"));});</script>"
      ]
     },
     "metadata": {},
     "output_type": "execute_result"
    }
   ],
   "source": [
    "year = list(range(2010,2018))\n",
    "pov = [21.2, 21.7, 20.6, 20.7, 22.4, 21.7, 20.5, 20.0]\n",
    "poverty_old = go.Scatter(\n",
    "    x = year[:5],\n",
    "    y = pov[:5],\n",
    "    mode = 'lines+markers',\n",
    "    name = '% Poverty',\n",
    ")\n",
    "poverty_new = go.Scatter(\n",
    "    x = year[4:],\n",
    "    y = pov[4:],\n",
    "    mode = 'lines+markers',\n",
    "    name = '% Poverty'\n",
    ")\n",
    "layout = go.Layout(\n",
    "    color='red'\n",
    ")\n",
    "\n",
    "fig = go.Figure(data=[poverty_old, poverty_new], layout=layout)\n",
    "py.iplot(fig)"
   ]
  }
 ],
 "metadata": {
  "kernelspec": {
   "display_name": "Python 3",
   "language": "python",
   "name": "python3"
  },
  "language_info": {
   "codemirror_mode": {
    "name": "ipython",
    "version": 3
   },
   "file_extension": ".py",
   "mimetype": "text/x-python",
   "name": "python",
   "nbconvert_exporter": "python",
   "pygments_lexer": "ipython3",
   "version": "3.7.0"
  }
 },
 "nbformat": 4,
 "nbformat_minor": 2
}

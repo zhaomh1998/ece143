{
 "cells": [
  {
   "cell_type": "code",
   "execution_count": null,
   "metadata": {},
   "outputs": [],
   "source": [
    "#!/usr/bin/env python\n",
    "# encoding: utf-8\n",
    "\n",
    "import tweepy #https://github.com/tweepy/tweepy\n",
    "import csv\n",
    "from Data_scraping import *\n",
    "#Twitter API credentials\n",
    "consumer_key = \"\"\n",
    "consumer_secret = \"\"\n",
    "access_key = \"\"\n",
    "access_secret = \"\"\n",
    "\n",
    "\n",
    "def get_all_tweets(screen_name,consumer_key,consumer_secret,access_key,access_secret):\n",
    "    '''This function gets all the tweets for the given screen name\n",
    "    input:\n",
    "    screen_name--> twitter user name\n",
    "    consumer_key--> provide your consumer_key generated from dev.twitter.com\n",
    "    consumer_secret--> provide your consumer_secret generated from dev.twitter.com\n",
    "    access_key--> provide your access_key generated from dev.twitter.com\n",
    "    access_secret--> provide your access_secret generated from dev.twitter.com\n",
    "    '''\n",
    "    #Twitter only allows access to a users most recent 3240 tweets with this method\n",
    "\n",
    "    #authorize twitter, initialize tweepy\n",
    "    auth = tweepy.OAuthHandler(consumer_key, consumer_secret)\n",
    "    auth.set_access_token(access_key, access_secret)\n",
    "    api = tweepy.API(auth)\n",
    "\n",
    "    #initialize a list to hold all the tweepy Tweets\n",
    "    alltweets = []  \n",
    "\n",
    "    #make initial request for most recent tweets (200 is the maximum allowed count)\n",
    "    new_tweets = api.user_timeline(screen_name = screen_name,count=200)\n",
    "\n",
    "    #save most recent tweets\n",
    "    alltweets.extend(new_tweets)\n",
    "\n",
    "    #save the id of the oldest tweet less one\n",
    "    oldest = alltweets[-1].id - 1\n",
    "\n",
    "    #keep grabbing tweets until there are no tweets left to grab\n",
    "    while len(new_tweets) > 0:\n",
    "        print (\"getting tweets before %s\" % (oldest))\n",
    "\n",
    "        #all subsiquent requests use the max_id param to prevent duplicates\n",
    "        new_tweets = api.user_timeline(screen_name = screen_name,count=200,max_id=oldest)\n",
    "\n",
    "        #save most recent tweets\n",
    "        alltweets.extend(new_tweets)\n",
    "\n",
    "        #update the id of the oldest tweet less one\n",
    "        oldest = alltweets[-1].id - 1\n",
    "\n",
    "        print (\"...%s tweets downloaded so far\" % (len(alltweets)))\n",
    "\n",
    "    #transform the tweepy tweets into a 2D array that will populate the csv \n",
    "    #outtweets = [[tweet.id_str, tweet.created_at, tweet.text.encode(\"utf-8\")] for tweet in alltweets]\n",
    "    outtweets = [[tweet.id_str, tweet.created_at, tweet.text] for tweet in alltweets]\n",
    "    #write the csv  \n",
    "    #with open('%s_tweets.csv' % screen_name, 'w') as f:\n",
    "    #    writer = csv.writer(f)\n",
    "    #    writer.writerow([\"id\",\"created_at\",\"text\"])\n",
    "    #    writer.writerows(outtweets)\n",
    "    with open('%s_tweets.txt' % screen_name, 'w') as f:\n",
    "        for i in outtweets:\n",
    "            f.write(i[-1]+'\\n')\n",
    "    return outtweets\n",
    "\n",
    "def get_tweets_for_all(names):\n",
    "    '''This function downloads twitter files for all the names listed\n",
    "    input:\n",
    "    names--> list of names\n",
    "    '''\n",
    "    assert isinstance(names,list) & all(isinstance(i,str) for i in names),\"input names not as expected\"\n",
    "    for i in names:\n",
    "        get_all_tweets(i)\n",
    "#auth = tweepy.OAuthHandler(consumer_key, consumer_secret)\n",
    "#auth.set_access_token(access_key, access_secret)\n",
    "#api = tweepy.API(auth)\n",
    "#api.verify_credentials()"
   ]
  },
  {
   "cell_type": "code",
   "execution_count": null,
   "metadata": {},
   "outputs": [],
   "source": [
    "def cleaned_up_text(fname,name):\n",
    "    '''This function prunes the dataset to access important words\n",
    "    input:\n",
    "    fname--> file name\n",
    "    output:\n",
    "    cleaned up text data as string\n",
    "    '''\n",
    "    assert isinstance(fname,str),\"file name is not a string\"\n",
    "    emoji_pattern = re.compile(\"[\"\n",
    "        u\"\\U0001F600-\\U0001F64F\"  # emoticons\n",
    "        u\"\\U0001F300-\\U0001F5FF\"  # symbols & pictographs\n",
    "        u\"\\U0001F680-\\U0001F6FF\"  # transport & map symbols\n",
    "        u\"\\U0001F1E0-\\U0001F1FF\"  # flags (iOS)\n",
    "                           \"]+\", flags=re.UNICODE)\n",
    "    shortword = re.compile(r'\\W*\\b\\w{1,5}\\b')\n",
    "    with open(fname,'r') as content_file:\n",
    "        content = content_file.read()\n",
    "        text=re.sub(r'http\\S+', '', content)\n",
    "        text=re.sub(r'%s'%name,'', text)\n",
    "        text=shortword.sub('',text)\n",
    "        text=emoji_pattern.sub('',text)\n",
    "    return text\n",
    "import numpy as np\n",
    "def rgb2gray(rgb):\n",
    "    r, g, b = rgb[:,:,0], rgb[:,:,1], rgb[:,:,2]\n",
    "    gray = 0.2989 * r + 0.5870 * g + 0.1140 * b\n",
    "    return gray       "
   ]
  },
  {
   "cell_type": "code",
   "execution_count": null,
   "metadata": {},
   "outputs": [],
   "source": [
    "from wordcloud import WordCloud, STOPWORDS, ImageColorGenerator\n",
    "import matplotlib.pyplot as plt\n",
    "% matplotlib inline\n",
    "from skimage.transform import resize\n",
    "import warnings\n",
    "from imageio import imread as imr\n",
    "import re\n",
    "warnings.filterwarnings(\"ignore\")\n",
    "mask2=imr('costa_rica.jpg')\n",
    "mask2=rgb2gray(mask2)\n",
    "mask2[mask2>250]=255\n",
    "mask2[mask2<250]=0\n",
    "mask2=resize(mask2,(1200,1200))\n",
    "data1=cleaned_up_text('translated_Laura_ch_tweets.txt','Laura_Ch')\n",
    "data2=cleaned_up_text('translated_CarlosAlvQ_tweets.txt','CarlosAlvQ')\n",
    "data3=cleaned_up_text('translated_luisguillermosr_tweets.txt','luisguillermosr')\n",
    "\n",
    "# Create and generate a word cloud image:\n",
    "#print(text)\n",
    "wordcloud = WordCloud(max_words=356285,mask=mask2,background_color='white').generate(data1)\n",
    "\n",
    "#print(wordcloud)\n",
    "# Display the generated image:\n",
    "wordcloud.to_file(\"first_review.png\")\n",
    "plt.imshow(wordcloud, interpolation='bilinear')\n",
    "plt.axis(\"off\")\n",
    "plt.show()\n",
    "#print(wordcloud.words_.values())\n"
   ]
  },
  {
   "cell_type": "code",
   "execution_count": null,
   "metadata": {
    "scrolled": false
   },
   "outputs": [],
   "source": [
    "# print(wordcloud.words_)\n",
    "# print(wordcloud3.words_)\n",
    "import enchant\n",
    "import pandas as pd\n",
    "def find_diff(word):\n",
    "    d=enchant.Dict(\"en-US\")\n",
    "    diff = dict()\n",
    "    for word in wordcloud.words_.keys():\n",
    "        if (word in wordcloud3.words_) and d.check(word) :\n",
    "            diff[word] = wordcloud.words_[word] - wordcloud3.words_[word]\n",
    "    diff=pd.Series(diff)\n",
    "    diff=diff.sort_values()\n",
    "    return diff"
   ]
  },
  {
   "cell_type": "code",
   "execution_count": null,
   "metadata": {},
   "outputs": [],
   "source": [
    "import pandas as pd\n",
    "diff = pd.Series(diff)\n",
    "diff=diff.sort_values()\n"
   ]
  },
  {
   "cell_type": "code",
   "execution_count": null,
   "metadata": {},
   "outputs": [],
   "source": [
    "diff = pd.Series.abs(diff)"
   ]
  },
  {
   "cell_type": "code",
   "execution_count": null,
   "metadata": {},
   "outputs": [],
   "source": [
    "print(diff)"
   ]
  },
  {
   "cell_type": "code",
   "execution_count": null,
   "metadata": {},
   "outputs": [],
   "source": [
    "def file_info(fname):\n",
    "    with open(fname) as infile:\n",
    "        lines=0\n",
    "        words=0\n",
    "        characters=0\n",
    "        for line in infile:\n",
    "            wordslist=line.split()\n",
    "            lines=lines+1\n",
    "            words=words+len(wordslist)\n",
    "            characters += sum(len(word) for word in wordslist)\n",
    "    return lines,words,characters\n",
    "def makeImage(text,name):\n",
    "    mask2=imr('costa_rica.jpg')\n",
    "    mask2=rgb2gray(mask2)\n",
    "    mask2[mask2>250]=255\n",
    "    mask2[mask2<250]=0\n",
    "    mask2=resize(mask2,(1200,1200))\n",
    "    wc = WordCloud(background_color=\"white\", max_words=1000, mask=mask2)\n",
    "    # generate word cloud\n",
    "    wc.generate(text)\n",
    "    wc.to_file(\"%s.png\"%name)\n",
    "    # show\n",
    "    plt.imshow(wc, interpolation=\"bilinear\")\n",
    "    plt.axis(\"off\")\n",
    "    plt.show()\n",
    "    \n",
    "def makeImage_freq(text,name):\n",
    "    '''\n",
    "    '''\n",
    "    assert isinstance(text,dict)\n",
    "    mask2=imr('costa_rica.jpg')\n",
    "    mask2=rgb2gray(mask2)\n",
    "    mask2[mask2>250]=255\n",
    "    mask2[mask2<250]=0\n",
    "    mask2=resize(mask2,(1200,1200))\n",
    "    wc = WordCloud(background_color=\"white\", max_words=1000, mask=mask2)\n",
    "    # generate word cloud\n",
    "    wc.generate_from_frequencies(text)\n",
    "    wc.to_file(\"%s.png\"%name)\n",
    "    # show\n",
    "    plt.imshow(wc, interpolation=\"bilinear\")\n",
    "    plt.axis(\"off\")\n",
    "    plt.show()\n",
    "print(type(diff))\n",
    "makeImage_freq(dict(diff[0:60]),\"luisguiller\")\n",
    "makeImage_freq(dict(diff[-60:]),\"laura_ch\")"
   ]
  },
  {
   "cell_type": "code",
   "execution_count": null,
   "metadata": {},
   "outputs": [],
   "source": [
    "wordcloud1 = WordCloud(max_words=35628500,mask=mask2,background_color='white').generate(data1)\n",
    "wordcloud1.to_file(\"first_review1.png\")\n",
    "wordcloud2 = WordCloud(max_words=35628500,mask=mask2,background_color='white').generate(data2)\n",
    "wordcloud2.to_file(\"first_review2.png\")\n",
    "wordcloud3 = WordCloud(max_words=356285,mask=mask2,background_color='white').generate(data3)\n",
    "wordcloud3.to_file(\"first_review3.png\")\n",
    "plt.imshow(wordcloud2, interpolation='bilinear')\n",
    "plt.axis(\"off\")\n",
    "plt.show()\n",
    "plt.imshow(wordcloud3, interpolation='bilinear')\n",
    "plt.axis(\"off\")\n",
    "plt.show()"
   ]
  },
  {
   "cell_type": "code",
   "execution_count": null,
   "metadata": {},
   "outputs": [],
   "source": [
    "from google.cloud import translate\n",
    "import os\n",
    "import time\n",
    "# Instantiates a client\n",
    "\n",
    "def translate_file(fname):\n",
    "    translate_client = translate.Client()\n",
    "    avg=os.path.getsize(fname)\n",
    "    n=avg//19000\n",
    "    print(n)\n",
    "    with open(fname,'r') as file,open('translated_%s' %fname,'w') as fileT:\n",
    "        for i in range(n):\n",
    "            print(i)\n",
    "            text=file.read(19000)\n",
    "            text=translate_client.translate(text,target_language='en')\n",
    "            fileT.write(text['translatedText'])\n",
    "translate_file(\"Laura_ch_tweets.txt\")"
   ]
  },
  {
   "cell_type": "code",
   "execution_count": null,
   "metadata": {},
   "outputs": [],
   "source": [
    "translate_file('luisguillermosr_tweets.txt')"
   ]
  },
  {
   "cell_type": "code",
   "execution_count": null,
   "metadata": {},
   "outputs": [],
   "source": [
    "translate_file('CarlosAlvQ_tweets.txt')"
   ]
  },
  {
   "cell_type": "code",
   "execution_count": null,
   "metadata": {},
   "outputs": [],
   "source": [
    "data=imr('earth.png')"
   ]
  },
  {
   "cell_type": "code",
   "execution_count": 5,
   "metadata": {},
   "outputs": [],
   "source": [
    "from Twitter_data import *\n",
    "from Data_scraping_v2 import *"
   ]
  },
  {
   "cell_type": "code",
   "execution_count": 41,
   "metadata": {},
   "outputs": [],
   "source": [
    "data=web_search('poverty level indicators in costa rican households',['sanitation', 'food', 'jobs', 'inequality',\\\n",
    "                                                                      'education','infrastructure','government',\\\n",
    "                                                                      'resources','employment','home','housing',\\\n",
    "                                                                     ,'development','economic','background'\\\n",
    "                                                                     ],20)"
   ]
  },
  {
   "cell_type": "code",
   "execution_count": 47,
   "metadata": {},
   "outputs": [],
   "source": [
    "mask_earth=imr('earth4.png')\n",
    "#mask_earth=resize(mask_earth,(600,600))"
   ]
  },
  {
   "cell_type": "code",
   "execution_count": 50,
   "metadata": {},
   "outputs": [],
   "source": [
    "wordcloud_google2=WordCloud(max_words=35628500,background_color='white').generate_from_frequencies(data)"
   ]
  },
  {
   "cell_type": "code",
   "execution_count": 51,
   "metadata": {},
   "outputs": [
    {
     "data": {
      "image/png": "[encoded data removed]",
      "text/plain": [
       "<Figure size 432x288 with 1 Axes>"
      ]
     },
     "metadata": {},
     "output_type": "display_data"
    }
   ],
   "source": [
    "wordcloud_google2.to_file(\"google_search2.png\")\n",
    "    # show\n",
    "plt.imshow(wordcloud_google2, interpolation=\"bilinear\")\n",
    "plt.axis(\"off\")\n",
    "plt.show()"
   ]
  },
  {
   "cell_type": "code",
   "execution_count": 18,
   "metadata": {},
   "outputs": [
    {
     "data": {
      "text/plain": [
       "<wordcloud.wordcloud.WordCloud at 0x1c215997f0>"
      ]
     },
     "execution_count": 18,
     "metadata": {},
     "output_type": "execute_result"
    }
   ],
   "source": [
    "wordcloud_google.generate_from_frequencies(data)"
   ]
  },
  {
   "cell_type": "code",
   "execution_count": 40,
   "metadata": {},
   "outputs": [
    {
     "data": {
      "image/png": "[encoded data removed]",
      "text/plain": [
       "<Figure size 432x288 with 1 Axes>"
      ]
     },
     "metadata": {},
     "output_type": "display_data"
    }
   ],
   "source": [
    "D=pd.Series(data)\n",
    "D=D.sort_values(ascending=False)\n",
    "ax=D.plot.bar(label=('number of hits','keywords')\n",
    "# plt.bar(range(len(D)), D.values(), align='center')  # python 2.x\n",
    "# plt.xticks(range(len(D)), D.keys())  # in python 2.x\n",
    "\n",
    "plt.show()"
   ]
  },
  {
   "cell_type": "code",
   "execution_count": 56,
   "metadata": {},
   "outputs": [
    {
     "data": {
      "image/png": "[encoded data removed]",
      "text/plain": [
       "<Figure size 432x288 with 1 Axes>"
      ]
     },
     "metadata": {},
     "output_type": "display_data"
    }
   ],
   "source": [
    "ax=D.plot.bar(label=('number of hits','keywords'))\n",
    "# plt.bar(range(len(D)), D.values(), align='center')  # python 2.x\n",
    "# plt.xticks(range(len(D)), D.keys())  # in python 2.x\n",
    "ax.set_xlabel('keywords')\n",
    "ax.set_ylabel('number of hits')\n",
    "plt.show()"
   ]
  },
  {
   "cell_type": "code",
   "execution_count": 52,
   "metadata": {},
   "outputs": [
    {
     "data": {
      "image/png": "[encoded data removed]",
      "text/plain": [
       "<Figure size 432x288 with 1 Axes>"
      ]
     },
     "metadata": {},
     "output_type": "display_data"
    }
   ],
   "source": [
    "\n",
    "D2=pd.Series(data)\n",
    "D2=D2.sort_values(ascending=False)\n",
    "D2.plot.bar()\n",
    "# plt.bar(range(len(D)), D.values(), align='center')  # python 2.x\n",
    "# plt.xticks(range(len(D)), D.keys())  # in python 2.x\n",
    "\n",
    "plt.show()"
   ]
  },
  {
   "cell_type": "code",
   "execution_count": null,
   "metadata": {},
   "outputs": [],
   "source": []
  }
 ],
 "metadata": {
  "kernelspec": {
   "display_name": "Python 3",
   "language": "python",
   "name": "python3"
  },
  "language_info": {
   "codemirror_mode": {
    "name": "ipython",
    "version": 3
   },
   "file_extension": ".py",
   "mimetype": "text/x-python",
   "name": "python",
   "nbconvert_exporter": "python",
   "pygments_lexer": "ipython3",
   "version": "3.6.5"
  }
 },
 "nbformat": 4,
 "nbformat_minor": 2
}

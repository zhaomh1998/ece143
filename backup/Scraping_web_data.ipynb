{
 "cells": [
  {
   "cell_type": "code",
   "execution_count": 26,
   "metadata": {},
   "outputs": [
    {
     "name": "stdout",
     "output_type": "stream",
     "text": [
      "Translated(src=ko, dest=en, text=Hi., pronunciation=None, extra_data=\"{'translat...\")\n"
     ]
    }
   ],
   "source": [
    "from googletrans import Translator as gt\n",
    "translator=gt()\n",
    "print(translator.translate('안녕하세요.',dest='en'))"
   ]
  },
  {
   "cell_type": "code",
   "execution_count": 27,
   "metadata": {},
   "outputs": [
    {
     "name": "stdout",
     "output_type": "stream",
     "text": [
      "translate.\n"
     ]
    }
   ],
   "source": [
    ">>> from googletrans import Translator\n",
    ">>> translator = Translator()\n",
    "translator = Translator(service_urls=[\n",
    "      'translate.google.com',\n",
    "      'translate.google.co.kr',\n",
    "    ])\n",
    "print(translator.translate('translate.').text)"
   ]
  },
  {
   "cell_type": "code",
   "execution_count": 2,
   "metadata": {},
   "outputs": [],
   "source": [
    "import googletrans"
   ]
  },
  {
   "cell_type": "code",
   "execution_count": 25,
   "metadata": {},
   "outputs": [
    {
     "name": "stdout",
     "output_type": "stream",
     "text": [
      "http://www.ticotimes.net/2015/10/23/1-1-million-costa-ricans-live-poverty\n",
      "education\n"
     ]
    },
    {
     "name": "stderr",
     "output_type": "stream",
     "text": [
      "/anaconda3/lib/python3.6/site-packages/bs4/__init__.py:181: UserWarning: No parser was explicitly specified, so I'm using the best available HTML parser for this system (\"html5lib\"). This usually isn't a problem, but if you run this code on another system, or in a different virtual environment, it may use a different parser and behave differently.\n",
      "\n",
      "The code that caused this warning is on line 193 of the file /anaconda3/lib/python3.6/runpy.py. To get rid of this warning, change code that looks like this:\n",
      "\n",
      " BeautifulSoup(YOUR_MARKUP})\n",
      "\n",
      "to this:\n",
      "\n",
      " BeautifulSoup(YOUR_MARKUP, \"html5lib\")\n",
      "\n",
      "  markup_type=markup_type))\n"
     ]
    },
    {
     "name": "stdout",
     "output_type": "stream",
     "text": [
      "\n",
      "Url: http://www.ticotimes.net/2015/10/23/1-1-million-costa-ricans-live-poverty\n",
      "contains 0 occurrences of word: education\n",
      "region\n",
      "\n",
      "Url: http://www.ticotimes.net/2015/10/23/1-1-million-costa-ricans-live-poverty\n",
      "contains 396 occurrences of word: region\n",
      "age\n",
      "\n",
      "Url: http://www.ticotimes.net/2015/10/23/1-1-million-costa-ricans-live-poverty\n",
      "contains 341 occurrences of word: age\n",
      "property\n",
      "\n",
      "Url: http://www.ticotimes.net/2015/10/23/1-1-million-costa-ricans-live-poverty\n",
      "contains 3710 occurrences of word: property\n",
      "https://borgenproject.org/poverty-in-costa-rica-2/\n",
      "education\n",
      "\n",
      "Url: https://borgenproject.org/poverty-in-costa-rica-2/\n",
      "contains 0 occurrences of word: education\n",
      "region\n",
      "\n",
      "Url: https://borgenproject.org/poverty-in-costa-rica-2/\n",
      "contains 0 occurrences of word: region\n",
      "age\n",
      "\n",
      "Url: https://borgenproject.org/poverty-in-costa-rica-2/\n",
      "contains 0 occurrences of word: age\n",
      "property\n",
      "\n",
      "Url: https://borgenproject.org/poverty-in-costa-rica-2/\n",
      "contains 0 occurrences of word: property\n",
      "http://povertydata.worldbank.org/poverty/country/CRI\n",
      "education\n",
      "\n",
      "Url: http://povertydata.worldbank.org/poverty/country/CRI\n",
      "contains 0 occurrences of word: education\n",
      "region\n",
      "\n",
      "Url: http://povertydata.worldbank.org/poverty/country/CRI\n",
      "contains 1954 occurrences of word: region\n",
      "age\n",
      "\n",
      "Url: http://povertydata.worldbank.org/poverty/country/CRI\n",
      "contains 67 occurrences of word: age\n",
      "property\n",
      "\n",
      "Url: http://povertydata.worldbank.org/poverty/country/CRI\n",
      "contains 0 occurrences of word: property\n",
      "https://data.worldbank.org/country/costa-rica\n",
      "education\n",
      "\n",
      "Url: https://data.worldbank.org/country/costa-rica\n",
      "contains 230715 occurrences of word: education\n",
      "region\n",
      "\n",
      "Url: https://data.worldbank.org/country/costa-rica\n",
      "contains 230715 occurrences of word: region\n",
      "age\n",
      "\n",
      "Url: https://data.worldbank.org/country/costa-rica\n",
      "contains 934 occurrences of word: age\n",
      "property\n",
      "\n",
      "Url: https://data.worldbank.org/country/costa-rica\n",
      "contains 230715 occurrences of word: property\n",
      "https://www.indexmundi.com/costa_rica/population_below_poverty_line.html\n",
      "education\n",
      "\n",
      "Url: https://www.indexmundi.com/costa_rica/population_below_poverty_line.html\n",
      "contains 0 occurrences of word: education\n",
      "region\n",
      "\n",
      "Url: https://www.indexmundi.com/costa_rica/population_below_poverty_line.html\n",
      "contains 0 occurrences of word: region\n",
      "age\n",
      "\n",
      "Url: https://www.indexmundi.com/costa_rica/population_below_poverty_line.html\n",
      "contains 340 occurrences of word: age\n",
      "property\n",
      "\n",
      "Url: https://www.indexmundi.com/costa_rica/population_below_poverty_line.html\n",
      "contains 0 occurrences of word: property\n",
      "https://tradingeconomics.com/costa-rica/poverty-headcount-ratio-at-national-poverty-line-percent-of-population-wb-data.html\n",
      "education\n",
      "\n",
      "Url: https://tradingeconomics.com/costa-rica/poverty-headcount-ratio-at-national-poverty-line-percent-of-population-wb-data.html\n",
      "contains 0 occurrences of word: education\n",
      "region\n",
      "\n",
      "Url: https://tradingeconomics.com/costa-rica/poverty-headcount-ratio-at-national-poverty-line-percent-of-population-wb-data.html\n",
      "contains 0 occurrences of word: region\n",
      "age\n",
      "\n",
      "Url: https://tradingeconomics.com/costa-rica/poverty-headcount-ratio-at-national-poverty-line-percent-of-population-wb-data.html\n",
      "contains 238 occurrences of word: age\n",
      "property\n",
      "\n",
      "Url: https://tradingeconomics.com/costa-rica/poverty-headcount-ratio-at-national-poverty-line-percent-of-population-wb-data.html\n",
      "contains 0 occurrences of word: property\n",
      "https://news.co.cr/special-report-costa-ricas-frustratingly-stagnant-poverty-rate/46042/\n",
      "education\n",
      "\n",
      "Url: https://news.co.cr/special-report-costa-ricas-frustratingly-stagnant-poverty-rate/46042/\n",
      "contains 0 occurrences of word: education\n",
      "region\n",
      "\n",
      "Url: https://news.co.cr/special-report-costa-ricas-frustratingly-stagnant-poverty-rate/46042/\n",
      "contains 0 occurrences of word: region\n",
      "age\n",
      "\n",
      "Url: https://news.co.cr/special-report-costa-ricas-frustratingly-stagnant-poverty-rate/46042/\n",
      "contains 0 occurrences of word: age\n",
      "property\n",
      "\n",
      "Url: https://news.co.cr/special-report-costa-ricas-frustratingly-stagnant-poverty-rate/46042/\n",
      "contains 0 occurrences of word: property\n",
      "https://www.cia.gov/library/publications/the-world-factbook/geos/print_cs.html\n",
      "education\n",
      "\n",
      "Url: https://www.cia.gov/library/publications/the-world-factbook/geos/print_cs.html\n",
      "contains 844 occurrences of word: education\n",
      "region\n",
      "\n",
      "Url: https://www.cia.gov/library/publications/the-world-factbook/geos/print_cs.html\n",
      "contains 594 occurrences of word: region\n",
      "age\n",
      "\n",
      "Url: https://www.cia.gov/library/publications/the-world-factbook/geos/print_cs.html\n",
      "contains 237 occurrences of word: age\n",
      "property\n",
      "\n",
      "Url: https://www.cia.gov/library/publications/the-world-factbook/geos/print_cs.html\n",
      "contains 0 occurrences of word: property\n",
      "https://www.entercostarica.com/information/is-there-a-lot-of-poverty-in-costa-rica\n",
      "education\n",
      "\n",
      "Url: https://www.entercostarica.com/information/is-there-a-lot-of-poverty-in-costa-rica\n",
      "contains 0 occurrences of word: education\n",
      "region\n",
      "\n",
      "Url: https://www.entercostarica.com/information/is-there-a-lot-of-poverty-in-costa-rica\n",
      "contains 0 occurrences of word: region\n",
      "age\n",
      "\n",
      "Url: https://www.entercostarica.com/information/is-there-a-lot-of-poverty-in-costa-rica\n",
      "contains 2106 occurrences of word: age\n",
      "property\n",
      "\n",
      "Url: https://www.entercostarica.com/information/is-there-a-lot-of-poverty-in-costa-rica\n",
      "contains 0 occurrences of word: property\n",
      "http://apps.who.int/gho/data/node.cco.ki-CRI?lang=en\n",
      "education\n",
      "\n",
      "Url: http://apps.who.int/gho/data/node.cco.ki-CRI?lang=en\n",
      "contains 0 occurrences of word: education\n",
      "region\n",
      "\n",
      "Url: http://apps.who.int/gho/data/node.cco.ki-CRI?lang=en\n",
      "contains 0 occurrences of word: region\n",
      "age\n",
      "\n",
      "Url: http://apps.who.int/gho/data/node.cco.ki-CRI?lang=en\n",
      "contains 8 occurrences of word: age\n",
      "property\n",
      "\n",
      "Url: http://apps.who.int/gho/data/node.cco.ki-CRI?lang=en\n",
      "contains 0 occurrences of word: property\n"
     ]
    }
   ],
   "source": [
    "try: \n",
    "    from googlesearch import search \n",
    "except ImportError:  \n",
    "    print(\"No module named 'google' found\") \n",
    "  \n",
    "# to search \n",
    "query = \"poverty indicators for costa rican population\"\n",
    "  \n",
    "for j in search(query, tld=\"co.in\", num=10, stop=1, pause=2): \n",
    "    print(j)\n",
    "    word=['education','region','age','property']\n",
    "    for k in word:\n",
    "        print(k)\n",
    "        count = count_words(j,k)\n",
    "        print('\\nUrl: {}\\ncontains {} occurrences of word: {}'.format(j, count, k))"
   ]
  },
  {
   "cell_type": "code",
   "execution_count": 24,
   "metadata": {},
   "outputs": [],
   "source": [
    "import requests\n",
    "from bs4 import BeautifulSoup\n",
    " \n",
    "def count_words(url, the_word):\n",
    "    r = requests.get(url, allow_redirects=False)\n",
    "    soup = BeautifulSoup(r.content, 'html5')\n",
    "    words = soup.find(text=lambda text: text and the_word in text)\n",
    "    #print(words)\n",
    "    if words==None:\n",
    "        return 0\n",
    "    return len(words)\n",
    " \n",
    "    url = 'https://python-forum.io/Thread-How-to-find-a-specific-word-in-a-webpage-and-How-to-count-it'\n",
    "    word = 'code'\n",
    "    count = count_words(url, word)\n",
    "    print('\\nUrl: {}\\ncontains {} occurrences of word: {}'.format(url, count, word))\n",
    " \n",
    "#if __name__ == '__main__':\n",
    "#    main()"
   ]
  },
  {
   "cell_type": "code",
   "execution_count": 18,
   "metadata": {},
   "outputs": [
    {
     "name": "stdout",
     "output_type": "stream",
     "text": [
      "asdf\n",
      "asdfger\n",
      "arery\n"
     ]
    }
   ],
   "source": [
    "l=['asdf','asdfger','arery']\n",
    "for i in l:\n",
    "    print(i)"
   ]
  },
  {
   "cell_type": "code",
   "execution_count": null,
   "metadata": {},
   "outputs": [],
   "source": []
  }
 ],
 "metadata": {
  "kernelspec": {
   "display_name": "Python 3",
   "language": "python",
   "name": "python3"
  },
  "language_info": {
   "codemirror_mode": {
    "name": "ipython",
    "version": 3
   },
   "file_extension": ".py",
   "mimetype": "text/x-python",
   "name": "python",
   "nbconvert_exporter": "python",
   "pygments_lexer": "ipython3",
   "version": "3.6.5"
  }
 },
 "nbformat": 4,
 "nbformat_minor": 2
}
